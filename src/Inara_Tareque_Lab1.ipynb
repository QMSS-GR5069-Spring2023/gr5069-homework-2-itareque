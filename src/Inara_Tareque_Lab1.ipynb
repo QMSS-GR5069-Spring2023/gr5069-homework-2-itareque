{
 "cells": [
  {
   "cell_type": "markdown",
   "metadata": {
    "collapsed": true,
    "pycharm": {
     "name": "#%% md\n"
    }
   },
   "source": [
    "# Inara Tareque\n",
    "## Lab 1\n",
    "\n",
    "### Run a multiple multinomial logistic regression. The outcome can be truly unordered or simply ordinal. Tell me how you think your independent variables will be related to your dependent variable. Interpret your results. Compare coefficients on your X variable of interest (not all of them) across different cuts of the multinomial outcomes, as we did in class (i.e., the Z test). For extra credit, generate some predicted probabilities. Tell me what you learned about your hypothesized relationship(s) from this exercise."
   ]
  },
  {
   "cell_type": "code",
   "execution_count": 58,
   "metadata": {
    "pycharm": {
     "name": "#%%\n"
    }
   },
   "outputs": [],
   "source": [
    "# Import modules\n",
    "import pandas as pd\n",
    "import numpy as np\n",
    "import scipy as sp\n",
    "import statsmodels.api as sm\n",
    "import statsmodels.formula.api as smf\n",
    "import os\n",
    "import matplotlib.pyplot as plt\n",
    "from statsmodels.discrete.discrete_model import MNLogit\n"
   ]
  },
  {
   "cell_type": "markdown",
   "metadata": {},
   "source": [
    "## Data: 2006 General Social Survey (GSS)\n",
    "## Codebook: http://www.thearda.com/Archive/Files/Codebooks/GSS2006_CB.asp\n",
    "\n",
    "## Data and hypothesis:\n",
    "### I wanted to investigate factors that are associated with the political leanings of people. To do so, I used respondents' data from the question: \"Generally speaking, do you usually think of yourself as a Republican, Democrat, Independent, or what? (PARTYID)\". I grouped respondents' answers into 3 groups below -- **democrat**, **independent**, **republican**.\n",
    "\n",
    "### I primarily wanted to investigate the **relationship between people's income and political preference**. While I do not have a strong prediction in terms of whether income would be associated with people's political preference, given that republicans often vouch for tax breaks for corporations, I am inclined towards hypothesizing that people with higher income are more likely republicans than democrats. Based on the same logic, I would also hypothesize that people with higher income are more likely independents compared to democrats.\n",
    "\n",
    "### Additional variables that may also impact people's values and thereby political preference include gender, age, and location. As such, I control for these in my model."
   ]
  },
  {
   "cell_type": "code",
   "execution_count": 4,
   "metadata": {
    "pycharm": {
     "name": "#%%\n"
    }
   },
   "outputs": [
    {
     "data": {
      "text/html": [
       "<div>\n",
       "<style scoped>\n",
       "    .dataframe tbody tr th:only-of-type {\n",
       "        vertical-align: middle;\n",
       "    }\n",
       "\n",
       "    .dataframe tbody tr th {\n",
       "        vertical-align: top;\n",
       "    }\n",
       "\n",
       "    .dataframe thead th {\n",
       "        text-align: right;\n",
       "    }\n",
       "</style>\n",
       "<table border=\"1\" class=\"dataframe\">\n",
       "  <thead>\n",
       "    <tr style=\"text-align: right;\">\n",
       "      <th></th>\n",
       "      <th>vpsu</th>\n",
       "      <th>vstrat</th>\n",
       "      <th>adults</th>\n",
       "      <th>ballot</th>\n",
       "      <th>dateintv</th>\n",
       "      <th>famgen</th>\n",
       "      <th>form</th>\n",
       "      <th>formwt</th>\n",
       "      <th>gender1</th>\n",
       "      <th>hompop</th>\n",
       "      <th>...</th>\n",
       "      <th>away7</th>\n",
       "      <th>gender14</th>\n",
       "      <th>old14</th>\n",
       "      <th>relate14</th>\n",
       "      <th>relhh14</th>\n",
       "      <th>relhhd14</th>\n",
       "      <th>relsp14</th>\n",
       "      <th>where12</th>\n",
       "      <th>where6</th>\n",
       "      <th>where7</th>\n",
       "    </tr>\n",
       "  </thead>\n",
       "  <tbody>\n",
       "    <tr>\n",
       "      <th>0</th>\n",
       "      <td>1</td>\n",
       "      <td>1957</td>\n",
       "      <td>1</td>\n",
       "      <td>3</td>\n",
       "      <td>316</td>\n",
       "      <td>2</td>\n",
       "      <td>1</td>\n",
       "      <td>1</td>\n",
       "      <td>2</td>\n",
       "      <td>3</td>\n",
       "      <td>...</td>\n",
       "      <td>NaN</td>\n",
       "      <td>NaN</td>\n",
       "      <td>NaN</td>\n",
       "      <td>NaN</td>\n",
       "      <td>NaN</td>\n",
       "      <td>NaN</td>\n",
       "      <td>NaN</td>\n",
       "      <td>NaN</td>\n",
       "      <td>NaN</td>\n",
       "      <td>NaN</td>\n",
       "    </tr>\n",
       "    <tr>\n",
       "      <th>1</th>\n",
       "      <td>1</td>\n",
       "      <td>1957</td>\n",
       "      <td>2</td>\n",
       "      <td>2</td>\n",
       "      <td>630</td>\n",
       "      <td>1</td>\n",
       "      <td>2</td>\n",
       "      <td>1</td>\n",
       "      <td>2</td>\n",
       "      <td>2</td>\n",
       "      <td>...</td>\n",
       "      <td>NaN</td>\n",
       "      <td>NaN</td>\n",
       "      <td>NaN</td>\n",
       "      <td>NaN</td>\n",
       "      <td>NaN</td>\n",
       "      <td>NaN</td>\n",
       "      <td>NaN</td>\n",
       "      <td>NaN</td>\n",
       "      <td>NaN</td>\n",
       "      <td>NaN</td>\n",
       "    </tr>\n",
       "    <tr>\n",
       "      <th>2</th>\n",
       "      <td>1</td>\n",
       "      <td>1957</td>\n",
       "      <td>2</td>\n",
       "      <td>2</td>\n",
       "      <td>314</td>\n",
       "      <td>2</td>\n",
       "      <td>1</td>\n",
       "      <td>1</td>\n",
       "      <td>2</td>\n",
       "      <td>2</td>\n",
       "      <td>...</td>\n",
       "      <td>NaN</td>\n",
       "      <td>NaN</td>\n",
       "      <td>NaN</td>\n",
       "      <td>NaN</td>\n",
       "      <td>NaN</td>\n",
       "      <td>NaN</td>\n",
       "      <td>NaN</td>\n",
       "      <td>NaN</td>\n",
       "      <td>NaN</td>\n",
       "      <td>NaN</td>\n",
       "    </tr>\n",
       "    <tr>\n",
       "      <th>3</th>\n",
       "      <td>1</td>\n",
       "      <td>1957</td>\n",
       "      <td>1</td>\n",
       "      <td>1</td>\n",
       "      <td>313</td>\n",
       "      <td>1</td>\n",
       "      <td>2</td>\n",
       "      <td>1</td>\n",
       "      <td>2</td>\n",
       "      <td>1</td>\n",
       "      <td>...</td>\n",
       "      <td>NaN</td>\n",
       "      <td>NaN</td>\n",
       "      <td>NaN</td>\n",
       "      <td>NaN</td>\n",
       "      <td>NaN</td>\n",
       "      <td>NaN</td>\n",
       "      <td>NaN</td>\n",
       "      <td>NaN</td>\n",
       "      <td>NaN</td>\n",
       "      <td>NaN</td>\n",
       "    </tr>\n",
       "    <tr>\n",
       "      <th>4</th>\n",
       "      <td>1</td>\n",
       "      <td>1957</td>\n",
       "      <td>3</td>\n",
       "      <td>1</td>\n",
       "      <td>322</td>\n",
       "      <td>2</td>\n",
       "      <td>2</td>\n",
       "      <td>1</td>\n",
       "      <td>2</td>\n",
       "      <td>3</td>\n",
       "      <td>...</td>\n",
       "      <td>NaN</td>\n",
       "      <td>NaN</td>\n",
       "      <td>NaN</td>\n",
       "      <td>NaN</td>\n",
       "      <td>NaN</td>\n",
       "      <td>NaN</td>\n",
       "      <td>NaN</td>\n",
       "      <td>NaN</td>\n",
       "      <td>NaN</td>\n",
       "      <td>NaN</td>\n",
       "    </tr>\n",
       "  </tbody>\n",
       "</table>\n",
       "<p>5 rows × 1261 columns</p>\n",
       "</div>"
      ],
      "text/plain": [
       "   vpsu  vstrat  adults  ballot  dateintv  famgen  form  formwt  gender1  \\\n",
       "0     1    1957       1       3       316       2     1       1        2   \n",
       "1     1    1957       2       2       630       1     2       1        2   \n",
       "2     1    1957       2       2       314       2     1       1        2   \n",
       "3     1    1957       1       1       313       1     2       1        2   \n",
       "4     1    1957       3       1       322       2     2       1        2   \n",
       "\n",
       "   hompop  ...  away7  gender14  old14  relate14  relhh14  relhhd14  relsp14  \\\n",
       "0       3  ...    NaN       NaN    NaN       NaN      NaN       NaN      NaN   \n",
       "1       2  ...    NaN       NaN    NaN       NaN      NaN       NaN      NaN   \n",
       "2       2  ...    NaN       NaN    NaN       NaN      NaN       NaN      NaN   \n",
       "3       1  ...    NaN       NaN    NaN       NaN      NaN       NaN      NaN   \n",
       "4       3  ...    NaN       NaN    NaN       NaN      NaN       NaN      NaN   \n",
       "\n",
       "   where12  where6  where7  \n",
       "0      NaN     NaN     NaN  \n",
       "1      NaN     NaN     NaN  \n",
       "2      NaN     NaN     NaN  \n",
       "3      NaN     NaN     NaN  \n",
       "4      NaN     NaN     NaN  \n",
       "\n",
       "[5 rows x 1261 columns]"
      ]
     },
     "execution_count": 4,
     "metadata": {},
     "output_type": "execute_result"
    }
   ],
   "source": [
    "# Import and read data\n",
    "data = pd.read_csv(\"GSS.2006.csv\")\n",
    "data.head()"
   ]
  },
  {
   "cell_type": "markdown",
   "metadata": {},
   "source": [
    "### Before I run a logistic regression below, I clean the data as shown below."
   ]
  },
  {
   "cell_type": "code",
   "execution_count": 103,
   "metadata": {
    "pycharm": {
     "name": "#%%\n"
    }
   },
   "outputs": [
    {
     "data": {
      "text/plain": [
       "partyid  partyid_cat\n",
       "3.0      independent    997\n",
       "1.0      democrat       735\n",
       "0.0      democrat       699\n",
       "5.0      republican     637\n",
       "2.0      independent    527\n",
       "6.0      republican     493\n",
       "4.0      independent    327\n",
       "dtype: int64"
      ]
     },
     "execution_count": 103,
     "metadata": {},
     "output_type": "execute_result"
    }
   ],
   "source": [
    "# Recoding \"partyid\"\n",
    "data = data[data['partyid'] < 7]\n",
    "\n",
    "conditions = [\n",
    "    data[\"partyid\"] == 0,\n",
    "    data[\"partyid\"] == 1,\n",
    "    data[\"partyid\"] == 2,\n",
    "    data[\"partyid\"] == 3,\n",
    "    data[\"partyid\"] == 4,\n",
    "    data[\"partyid\"] == 5,\n",
    "    data[\"partyid\"] == 6,\n",
    "]\n",
    "\n",
    "categories = [\"democrat\", \"democrat\", \"independent\", \"independent\", \"independent\", \"republican\", \"republican\"]\n",
    "\n",
    "data['partyid_cat'] = np.select(conditions, categories)\n",
    "data['partyid_cat'] = data['partyid_cat'].astype('category')\n",
    "\n",
    "# Distribution of respondents' marital state\n",
    "data[['partyid', \"partyid_cat\"]].value_counts()"
   ]
  },
  {
   "cell_type": "markdown",
   "metadata": {},
   "source": [
    "## Distribution of my independent variable:"
   ]
  },
  {
   "cell_type": "code",
   "execution_count": 92,
   "metadata": {
    "pycharm": {
     "name": "#%%\n"
    }
   },
   "outputs": [
    {
     "data": {
      "text/plain": [
       "partyid_cat  partyid_cat_num\n",
       "independent  2                  1851\n",
       "democrat     1                  1434\n",
       "republican   3                  1130\n",
       "dtype: int64"
      ]
     },
     "execution_count": 92,
     "metadata": {},
     "output_type": "execute_result"
    }
   ],
   "source": [
    "#create a numeric party_cat variable\n",
    "conditions = [\n",
    "    data[\"partyid_cat\"] == \"democrat\",\n",
    "    data[\"partyid_cat\"] == \"independent\",\n",
    "    data[\"partyid_cat\"] == \"republican\"\n",
    "]\n",
    "\n",
    "categories = [1,2,3]\n",
    "\n",
    "data['partyid_cat_num'] = np.select(conditions, categories)\n",
    "data[['partyid_cat', \"partyid_cat_num\"]].value_counts()\n"
   ]
  },
  {
   "cell_type": "code",
   "execution_count": 93,
   "metadata": {
    "pycharm": {
     "name": "#%%\n"
    }
   },
   "outputs": [],
   "source": [
    "# Create new variables\n",
    "data[\"income_10k\"] = data[\"realinc\"]/10000\n",
    "\n",
    "#Gender - Female\n",
    "conditions = [\n",
    "    (data['sex'] == 1) ,\n",
    "    (data['sex'] == 2 )]\n",
    "choices = [0, 1]\n",
    "data['female'] = np.select(conditions, choices, default=np.nan)\n"
   ]
  },
  {
   "cell_type": "markdown",
   "metadata": {},
   "source": [
    "## Logistic Regression -- why is it appropriate here?\n",
    "\n",
    "### My dependent variable, political preference of participants, is unordered and polytomous with several states -- democrat, republican, independent, as shown by its distribution above. Therefore, a multinomial logistic regression is appropriate for this model."
   ]
  },
  {
   "cell_type": "code",
   "execution_count": 101,
   "metadata": {
    "pycharm": {
     "name": "#%%\n"
    }
   },
   "outputs": [
    {
     "name": "stdout",
     "output_type": "stream",
     "text": [
      "Optimization terminated successfully.\n",
      "         Current function value: 1.056495\n",
      "         Iterations 5\n"
     ]
    },
    {
     "data": {
      "text/html": [
       "<table class =\"simpletable\">\n",
       "<caption>MNLogit Regression Results</caption>\n",
       "<tr>\n",
       "  <th>Dep. Variable:</th>    <td>partyid_cat_num</td> <th>  No. Observations:  </th>  <td>  3794</td>  \n",
       "</tr>\n",
       "<tr>\n",
       "  <th>Model:</th>                <td>MNLogit</td>     <th>  Df Residuals:      </th>  <td>  3784</td>  \n",
       "</tr>\n",
       "<tr>\n",
       "  <th>Method:</th>                 <td>MLE</td>       <th>  Df Model:          </th>  <td>     8</td>  \n",
       "</tr>\n",
       "<tr>\n",
       "  <th>Date:</th>            <td>Mon, 20 Feb 2023</td> <th>  Pseudo R-squ.:     </th>  <td>0.02410</td> \n",
       "</tr>\n",
       "<tr>\n",
       "  <th>Time:</th>                <td>18:59:18</td>     <th>  Log-Likelihood:    </th> <td> -4008.3</td> \n",
       "</tr>\n",
       "<tr>\n",
       "  <th>converged:</th>             <td>True</td>       <th>  LL-Null:           </th> <td> -4107.3</td> \n",
       "</tr>\n",
       "<tr>\n",
       "  <th>Covariance Type:</th>     <td>nonrobust</td>    <th>  LLR p-value:       </th> <td>1.738e-38</td>\n",
       "</tr>\n",
       "</table>\n",
       "<table class=\"simpletable\">\n",
       "<tr>\n",
       "  <th>partyid_cat_num=2</th>    <th>coef</th>     <th>std err</th>      <th>z</th>      <th>P>|z|</th>  <th>[0.025</th>    <th>0.975]</th>  \n",
       "</tr>\n",
       "<tr>\n",
       "  <th>Intercept</th>         <td>    1.2323</td> <td>    0.157</td> <td>    7.834</td> <td> 0.000</td> <td>    0.924</td> <td>    1.541</td>\n",
       "</tr>\n",
       "<tr>\n",
       "  <th>income_10k</th>        <td>   -0.0208</td> <td>    0.013</td> <td>   -1.556</td> <td> 0.120</td> <td>   -0.047</td> <td>    0.005</td>\n",
       "</tr>\n",
       "<tr>\n",
       "  <th>female</th>            <td>   -0.3916</td> <td>    0.078</td> <td>   -5.017</td> <td> 0.000</td> <td>   -0.545</td> <td>   -0.239</td>\n",
       "</tr>\n",
       "<tr>\n",
       "  <th>age</th>               <td>   -0.0162</td> <td>    0.002</td> <td>   -7.010</td> <td> 0.000</td> <td>   -0.021</td> <td>   -0.012</td>\n",
       "</tr>\n",
       "<tr>\n",
       "  <th>region</th>            <td>    0.0010</td> <td>    0.016</td> <td>    0.062</td> <td> 0.950</td> <td>   -0.030</td> <td>    0.032</td>\n",
       "</tr>\n",
       "<tr>\n",
       "  <th>partyid_cat_num=3</th>    <th>coef</th>     <th>std err</th>      <th>z</th>      <th>P>|z|</th>  <th>[0.025</th>    <th>0.975]</th>  \n",
       "</tr>\n",
       "<tr>\n",
       "  <th>Intercept</th>         <td>   -0.5544</td> <td>    0.180</td> <td>   -3.086</td> <td> 0.002</td> <td>   -0.907</td> <td>   -0.202</td>\n",
       "</tr>\n",
       "<tr>\n",
       "  <th>income_10k</th>        <td>    0.0904</td> <td>    0.013</td> <td>    7.171</td> <td> 0.000</td> <td>    0.066</td> <td>    0.115</td>\n",
       "</tr>\n",
       "<tr>\n",
       "  <th>female</th>            <td>   -0.3472</td> <td>    0.087</td> <td>   -3.982</td> <td> 0.000</td> <td>   -0.518</td> <td>   -0.176</td>\n",
       "</tr>\n",
       "<tr>\n",
       "  <th>age</th>               <td>    0.0012</td> <td>    0.003</td> <td>    0.468</td> <td> 0.640</td> <td>   -0.004</td> <td>    0.006</td>\n",
       "</tr>\n",
       "<tr>\n",
       "  <th>region</th>            <td>    0.0237</td> <td>    0.018</td> <td>    1.350</td> <td> 0.177</td> <td>   -0.011</td> <td>    0.058</td>\n",
       "</tr>\n",
       "</table>"
      ],
      "text/plain": [
       "<class 'statsmodels.iolib.summary.Summary'>\n",
       "\"\"\"\n",
       "                          MNLogit Regression Results                          \n",
       "==============================================================================\n",
       "Dep. Variable:        partyid_cat_num   No. Observations:                 3794\n",
       "Model:                        MNLogit   Df Residuals:                     3784\n",
       "Method:                           MLE   Df Model:                            8\n",
       "Date:                Mon, 20 Feb 2023   Pseudo R-squ.:                 0.02410\n",
       "Time:                        18:59:18   Log-Likelihood:                -4008.3\n",
       "converged:                       True   LL-Null:                       -4107.3\n",
       "Covariance Type:            nonrobust   LLR p-value:                 1.738e-38\n",
       "=====================================================================================\n",
       "partyid_cat_num=2       coef    std err          z      P>|z|      [0.025      0.975]\n",
       "-------------------------------------------------------------------------------------\n",
       "Intercept             1.2323      0.157      7.834      0.000       0.924       1.541\n",
       "income_10k           -0.0208      0.013     -1.556      0.120      -0.047       0.005\n",
       "female               -0.3916      0.078     -5.017      0.000      -0.545      -0.239\n",
       "age                  -0.0162      0.002     -7.010      0.000      -0.021      -0.012\n",
       "region                0.0010      0.016      0.062      0.950      -0.030       0.032\n",
       "-------------------------------------------------------------------------------------\n",
       "partyid_cat_num=3       coef    std err          z      P>|z|      [0.025      0.975]\n",
       "-------------------------------------------------------------------------------------\n",
       "Intercept            -0.5544      0.180     -3.086      0.002      -0.907      -0.202\n",
       "income_10k            0.0904      0.013      7.171      0.000       0.066       0.115\n",
       "female               -0.3472      0.087     -3.982      0.000      -0.518      -0.176\n",
       "age                   0.0012      0.003      0.468      0.640      -0.004       0.006\n",
       "region                0.0237      0.018      1.350      0.177      -0.011       0.058\n",
       "=====================================================================================\n",
       "\"\"\""
      ]
     },
     "execution_count": 101,
     "metadata": {},
     "output_type": "execute_result"
    }
   ],
   "source": [
    "\n",
    "ml1 = MNLogit.from_formula('partyid_cat_num ~  + income_10k + female + age + region', data=data).fit()\n",
    "ml1.summary()"
   ]
  },
  {
   "cell_type": "markdown",
   "metadata": {},
   "source": [
    "## Interpreting the results:\n",
    "\n",
    "### For each 10,000 dollar increase in family income, on average, the logit of being an independent compared to being a democrat decreases by 0.021***, net respondents' gender, age, and location (region). On the other hand, for each 10,000 dollar increase in family income, on average, the logit of being a republican compared to being a democrat increases by 0.09***, net respondents' gender, age, and location (region). Both of these coefficients are statistically significant at p < 0.001, meaning that we can reject the null hypothesis of people's income having to association with their political preference.\n",
    "\n",
    "### The positive relationship between income and people being more likely to be republican than democrats supports my expectations. Interestingly however, people with higher income being less likely to be independent than democrats is not what I had predicted. This could perhaps be because independent voters may care more about issues that are negatively correlated with income compared to democrats.\n"
   ]
  },
  {
   "cell_type": "markdown",
   "metadata": {},
   "source": [
    "\n",
    "## Compare coefficients on your X variable of interest (not all of them) across different cuts of the multinomial outcomes, as we did in class (i.e., the Z test).\n",
    "\n",
    "## To do so, I test the equality of the slopes across equations using a Chi-sq test.\n",
    "\n",
    "### As shown below, -0.021 =/=  0.090, based on the Chi-sq test, where p < 0.001. So I can conclude that the coefficient of income across different cuts of my multinomial outcomes, i.e. for \"indendent\" and \"republican\" respondents are statistically significantly different."
   ]
  },
  {
   "cell_type": "code",
   "execution_count": 104,
   "metadata": {
    "pycharm": {
     "name": "#%%\n"
    }
   },
   "outputs": [
    {
     "name": "stdout",
     "output_type": "stream",
     "text": [
      "36.452662721893496\n",
      "8.025097209035836e-10\n"
     ]
    }
   ],
   "source": [
    "## Z score - create a function\n",
    "def get_chi2(b1, b2, se1, se2):\n",
    "    z = np.square(b1-b2) / (np.square(se1) + np.square(se2))\n",
    "    chi2 = sp.stats.chi2.pdf(z, 1)\n",
    "    print(z)\n",
    "    print(chi2)\n",
    "\n",
    "get_chi2(-0.021, 0.090, 0.013, 0.013)"
   ]
  },
  {
   "cell_type": "markdown",
   "metadata": {
    "pycharm": {
     "name": "#%% md\n"
    }
   },
   "source": [
    "## Extra Credit:\n",
    "## For extra credit, generate some predicted probabilities. Tell me what you learned about your hypothesized relationship(s) from this exercise.\n",
    "\n",
    "### I generate predicted probabilities below. I will focus on income_10k for my analysis as that is my main independent variable of interest.\n",
    "\n",
    "### Coefficients:\n",
    "#### - Independent = -0.021\n",
    "#### - Democrat = 0 (as it is the reference group of the model)\n",
    "#### - Republican = 0.09\n",
    "\n",
    "### Adding 0.021 to all 3 cuts above to generate easy-to-understand predicted probabilities (as with the class example), we have:\n",
    "#### - Independent = 0\n",
    "#### - Democrat = 0.021 (as it is the reference group of the model)\n",
    "#### - Republican = 0.111 (0.021+0.09)"
   ]
  },
  {
   "cell_type": "code",
   "execution_count": 109,
   "metadata": {
    "pycharm": {
     "name": "#%%\n"
    }
   },
   "outputs": [
    {
     "data": {
      "text/html": [
       "<div>\n",
       "<style scoped>\n",
       "    .dataframe tbody tr th:only-of-type {\n",
       "        vertical-align: middle;\n",
       "    }\n",
       "\n",
       "    .dataframe tbody tr th {\n",
       "        vertical-align: top;\n",
       "    }\n",
       "\n",
       "    .dataframe thead th {\n",
       "        text-align: right;\n",
       "    }\n",
       "</style>\n",
       "<table border=\"1\" class=\"dataframe\">\n",
       "  <thead>\n",
       "    <tr style=\"text-align: right;\">\n",
       "      <th></th>\n",
       "      <th>pol_view</th>\n",
       "      <th>logit</th>\n",
       "      <th>predicted_prob</th>\n",
       "    </tr>\n",
       "  </thead>\n",
       "  <tbody>\n",
       "    <tr>\n",
       "      <th>0</th>\n",
       "      <td>independent</td>\n",
       "      <td>0.000</td>\n",
       "      <td>1.000000</td>\n",
       "    </tr>\n",
       "    <tr>\n",
       "      <th>1</th>\n",
       "      <td>democrat</td>\n",
       "      <td>0.021</td>\n",
       "      <td>1.021222</td>\n",
       "    </tr>\n",
       "    <tr>\n",
       "      <th>2</th>\n",
       "      <td>republican</td>\n",
       "      <td>0.090</td>\n",
       "      <td>1.094174</td>\n",
       "    </tr>\n",
       "  </tbody>\n",
       "</table>\n",
       "</div>"
      ],
      "text/plain": [
       "      pol_view  logit  predicted_prob\n",
       "0  independent  0.000        1.000000\n",
       "1     democrat  0.021        1.021222\n",
       "2   republican  0.090        1.094174"
      ]
     },
     "execution_count": 109,
     "metadata": {},
     "output_type": "execute_result"
    }
   ],
   "source": [
    "## Generate dataframe of predicted probabilities\n",
    "data = [[\"independent\", 0], [\"democrat\", 0.021], [\"republican\", 0.09]]\n",
    "plot_data = pd.DataFrame(data, columns = ['pol_view', 'logit'])\n",
    "plot_data['predicted_prob'] = np.exp(plot_data['logit'])\n",
    "plot_data"
   ]
  },
  {
   "cell_type": "code",
   "execution_count": 118,
   "metadata": {
    "pycharm": {
     "name": "#%%\n"
    }
   },
   "outputs": [
    {
     "data": {
      "text/plain": [
       "Text(0.5, 1.0, 'Logit coefficient on income_10k, from multinomial regression.')"
      ]
     },
     "execution_count": 118,
     "metadata": {},
     "output_type": "execute_result"
    },
    {
     "data": {
      "image/png": "[encoded data removed]",
      "text/plain": [
       "<Figure size 432x288 with 1 Axes>"
      ]
     },
     "metadata": {
      "needs_background": "light"
     },
     "output_type": "display_data"
    }
   ],
   "source": [
    "## Visualizing the logit results\n",
    "plt.scatter(plot_data['pol_view'], plot_data['logit'], color = \"red\", s = 100)\n",
    "plt.title(\"Logit coefficient on income_10k, from multinomial regression.\")"
   ]
  },
  {
   "cell_type": "code",
   "execution_count": 119,
   "metadata": {
    "pycharm": {
     "name": "#%%\n"
    }
   },
   "outputs": [
    {
     "data": {
      "text/plain": [
       "Text(0.5, 1.0, 'Predicted probabilities from multinomial regression.')"
      ]
     },
     "execution_count": 119,
     "metadata": {},
     "output_type": "execute_result"
    },
    {
     "data": {
      "image/png": "[encoded data removed]",
      "text/plain": [
       "<Figure size 432x288 with 1 Axes>"
      ]
     },
     "metadata": {
      "needs_background": "light"
     },
     "output_type": "display_data"
    }
   ],
   "source": [
    "## Visualizing the predicted probability results\n",
    "plt.scatter(plot_data['pol_view'], plot_data['predicted_prob'], color = \"red\", s = 100)\n",
    "plt.title(\"Predicted probabilities from multinomial regression.\")"
   ]
  },
  {
   "cell_type": "markdown",
   "metadata": {
    "pycharm": {
     "name": "#%% md\n"
    }
   },
   "source": [
    "### As visualized above, the results from my multonomial logit regression suggest that a 10,000 increase in family income is associated with an odds ratio on going from independent to democrat equal to 1.02 (i.e. 2% increase in the odds) whereas it is associated with a much higher increase of 1.09 (i.e. 9% increase in the odds) of going from independent to republican, on average, net of age, gender, and region.\n",
    "\n",
    "### As discussed earlier, this largely supports my original hypothesis regarding republican voters. However, my hypothesis regarding independent voters is not supported. In future research, it would be interesting to explore additional independent variables that could explain why that's the case."
   ]
  }
 ],
 "metadata": {
  "kernelspec": {
   "display_name": "Python 3 (ipykernel)",
   "language": "python",
   "name": "python3"
  },
  "language_info": {
   "codemirror_mode": {
    "name": "ipython",
    "version": 3
   },
   "file_extension": ".py",
   "mimetype": "text/x-python",
   "name": "python",
   "nbconvert_exporter": "python",
   "pygments_lexer": "ipython3",
   "version": "3.8.12"
  }
 },
 "nbformat": 4,
 "nbformat_minor": 1
}
